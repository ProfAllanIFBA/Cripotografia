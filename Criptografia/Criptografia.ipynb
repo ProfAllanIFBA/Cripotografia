{
 "cells": [
  {
   "cell_type": "markdown",
   "id": "61b940b8",
   "metadata": {},
   "source": [
    "## Criptografando arquivos"
   ]
  },
  {
   "cell_type": "code",
   "execution_count": 1,
   "id": "6df5d1c4",
   "metadata": {
    "ExecuteTime": {
     "end_time": "2023-12-09T23:09:10.262949Z",
     "start_time": "2023-12-09T23:09:10.227830Z"
    }
   },
   "outputs": [],
   "source": [
    "from cryptography.fernet import Fernet\n",
    "import os\n",
    "\n",
    "# Caminho para a pasta onde a chave será armazenada\n",
    "key_folder_path = f\"Arquivos\"\n",
    "\n",
    "# Nome do arquivo da chave\n",
    "key_file_name = f\"secret.key\"\n",
    "key_file_path = os.path.join(key_folder_path, key_file_name)\n",
    "\n",
    "# Função para gerar uma chave\n",
    "def generate_key():\n",
    "    key = Fernet.generate_key()\n",
    "    with open(key_file_path, \"wb\") as key_file:\n",
    "        key_file.write(key)\n",
    "\n",
    "# Função para carregar a chave\n",
    "def load_key():\n",
    "    if not os.path.exists(key_file_path):\n",
    "        generate_key()\n",
    "    return open(key_file_path, \"rb\").read()\n",
    "\n",
    "# Função para criptografar um arquivo\n",
    "def encrypt(filename, key):\n",
    "    f = Fernet(key)\n",
    "    with open(filename, \"rb\") as file:\n",
    "        # lê todos os dados do arquivo\n",
    "        file_data = file.read()\n",
    "    encrypted_data = f.encrypt(file_data)\n",
    "    with open(filename, \"wb\") as file:\n",
    "        file.write(encrypted_data)\n",
    "\n",
    "# Função para descriptografar um arquivo\n",
    "def decrypt(filename, key):\n",
    "    f = Fernet(key)\n",
    "    with open(filename, \"rb\") as file:\n",
    "        # lê todos os dados criptografados\n",
    "        encrypted_data = file.read()\n",
    "    decrypted_data = f.decrypt(encrypted_data)\n",
    "    with open(filename, \"wb\") as file:\n",
    "        file.write(decrypted_data)\n",
    "\n",
    "# Exemplo de uso\n",
    "key = load_key() # Carrega a chave existente ou gera uma nova\n",
    "\n",
    "# Diretório atual para criptografar/descriptografar arquivos\n",
    "current_directory = os.getcwd()\n",
    "\n",
    "# Caminho para a pasta \"Pasta1\"\n",
    "current_directory = os.path.join(os.getcwd(), key_folder_path)"
   ]
  },
  {
   "cell_type": "code",
   "execution_count": 3,
   "id": "a88574d7",
   "metadata": {
    "ExecuteTime": {
     "end_time": "2023-12-09T23:09:23.701860Z",
     "start_time": "2023-12-09T23:09:23.696032Z"
    }
   },
   "outputs": [],
   "source": [
    "# Criptografar todos os arquivos no diretório atual\n",
    "for filename in os.listdir(current_directory):\n",
    "    if filename.endswith(\".txt\"): # Supondo que você deseje criptografar apenas arquivos .txt\n",
    "        encrypt(os.path.join(current_directory, filename), key)"
   ]
  },
  {
   "cell_type": "code",
   "execution_count": 2,
   "id": "c145a6de",
   "metadata": {
    "ExecuteTime": {
     "end_time": "2023-12-09T23:09:12.358967Z",
     "start_time": "2023-12-09T23:09:12.295778Z"
    }
   },
   "outputs": [],
   "source": [
    "# Diretório atual para descriptografar arquivos\n",
    "# Nota: Isso descriptografará todos os arquivos criptografados na execução anterior\n",
    "for encrypted_filename in os.listdir(current_directory):\n",
    "    if encrypted_filename.endswith(\".txt\"): # Supondo que os arquivos criptografados terminem com '_secret1'\n",
    "        decrypt(os.path.join(current_directory, encrypted_filename), key)"
   ]
  },
  {
   "cell_type": "code",
   "execution_count": null,
   "id": "1a5cf601",
   "metadata": {},
   "outputs": [],
   "source": []
  }
 ],
 "metadata": {
  "kernelspec": {
   "display_name": "Python 3 (ipykernel)",
   "language": "python",
   "name": "python3"
  },
  "language_info": {
   "codemirror_mode": {
    "name": "ipython",
    "version": 3
   },
   "file_extension": ".py",
   "mimetype": "text/x-python",
   "name": "python",
   "nbconvert_exporter": "python",
   "pygments_lexer": "ipython3",
   "version": "3.11.5"
  }
 },
 "nbformat": 4,
 "nbformat_minor": 5
}
